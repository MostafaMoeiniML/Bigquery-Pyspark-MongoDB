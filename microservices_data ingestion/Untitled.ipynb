{
 "cells": [
  {
   "cell_type": "code",
   "execution_count": 4,
   "id": "0db86594",
   "metadata": {},
   "outputs": [
    {
     "name": "stdout",
     "output_type": "stream",
     "text": [
      "Data successfully loaded to review_amazon in BigQuery!\n"
     ]
    }
   ],
   "source": [
    "\n",
    "import os\n",
    "import pandas as pd\n",
    "from google.cloud import bigquery\n",
    "\n",
    "# Set Google Cloud authentication with container path\n",
    "# os.environ[\"GOOGLE_APPLICATION_CREDENTIALS\"] = \"/app/credentials.json\"\n",
    "os.environ[\"GOOGLE_APPLICATION_CREDENTIALS\"] = \"big-test-449715-2b0e9010365e.json\"\n",
    "\n",
    "# Load dataset from local CSV file\n",
    "# LOCAL_FILE_PATH = \"/app/amazon_review.csv\"\n",
    "LOCAL_FILE_PATH = \"amazon_review.csv\"\n",
    "df = pd.read_csv(LOCAL_FILE_PATH)\n",
    "\n",
    "# Initialize BigQuery client\n",
    "client = bigquery.Client()\n",
    "\n",
    "# BigQuery table details\n",
    "PROJECT_ID = \"big-test-449715\"\n",
    "DATASET_ID = \"LLM\"\n",
    "TABLE_NAME = \"review_amazon\"\n",
    "TABLE_ID = f\"{PROJECT_ID}.{DATASET_ID}.{TABLE_NAME}\"\n",
    "\n",
    "# Upload DataFrame to BigQuery\n",
    "job = client.load_table_from_dataframe(df, TABLE_ID)\n",
    "job.result()  # Wait for the job to complete\n",
    "\n",
    "print(f\"Data successfully loaded to {TABLE_NAME} in BigQuery!\")"
   ]
  },
  {
   "cell_type": "code",
   "execution_count": null,
   "id": "cefc07ab",
   "metadata": {},
   "outputs": [],
   "source": []
  }
 ],
 "metadata": {
  "kernelspec": {
   "display_name": "Python 3 (ipykernel)",
   "language": "python",
   "name": "python3"
  },
  "language_info": {
   "codemirror_mode": {
    "name": "ipython",
    "version": 3
   },
   "file_extension": ".py",
   "mimetype": "text/x-python",
   "name": "python",
   "nbconvert_exporter": "python",
   "pygments_lexer": "ipython3",
   "version": "3.11.5"
  }
 },
 "nbformat": 4,
 "nbformat_minor": 5
}
